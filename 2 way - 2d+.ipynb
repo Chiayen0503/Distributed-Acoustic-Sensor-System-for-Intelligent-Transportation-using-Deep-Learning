{
 "cells": [
  {
   "attachments": {},
   "cell_type": "markdown",
   "metadata": {},
   "source": [
    "# Load occupancy data: RC-60-Mix"
   ]
  },
  {
   "cell_type": "code",
   "execution_count": 1,
   "metadata": {},
   "outputs": [],
   "source": [
    "import numpy as np \n",
    "import pandas as pd"
   ]
  },
  {
   "cell_type": "code",
   "execution_count": 2,
   "metadata": {},
   "outputs": [
    {
     "name": "stdout",
     "output_type": "stream",
     "text": [
      "(4340, 5976) (4340, 1)\n"
     ]
    }
   ],
   "source": [
    "root_folder = 'preprocessed_data/'\n",
    "f_x = root_folder + '058_5p_to_1p_X.txt'\n",
    "f_y = root_folder + '058_5p_to_1p_y.txt'\n",
    "data = pd.read_csv(f_x, delimiter=' ', header = None)\n",
    "labels = pd.read_csv(f_y, delimiter=' ', header = None)\n",
    "print(data.shape, labels.shape)"
   ]
  },
  {
   "cell_type": "code",
   "execution_count": 3,
   "metadata": {},
   "outputs": [
    {
     "data": {
      "text/plain": [
       "1    902\n",
       "3    902\n",
       "4    902\n",
       "2    852\n",
       "5    782\n",
       "dtype: int64"
      ]
     },
     "execution_count": 3,
     "metadata": {},
     "output_type": "execute_result"
    }
   ],
   "source": [
    "labels.value_counts()\n",
    "# label 1: 5p\n",
    "# label 2: 4p\n",
    "# label 3: 3p\n",
    "# label 4: 2p\n",
    "# label 5: 1p"
   ]
  },
  {
   "cell_type": "code",
   "execution_count": 4,
   "metadata": {},
   "outputs": [],
   "source": [
    "def count_HOV_LOV(labels):# HOV: label=1 ; LOV: label=2\n",
    "    count_hov = 0\n",
    "    count_lov = 0    \n",
    "    if len(labels.shape)==2:\n",
    "        labels = np.squeeze(labels).tolist()\n",
    "    for idx, l in enumerate(labels):\n",
    "        if l==1:\n",
    "            count_hov+=1\n",
    "        elif l==2:\n",
    "            count_lov+=1\n",
    "        else:\n",
    "            raise SystemExit(\"should have two unique labels in HOV_LOV problem!\")\n",
    "    print('HOV : {0}'.format(count_hov))\n",
    "    print('LOV : {0}'.format(count_lov))\n",
    "    "
   ]
  },
  {
   "cell_type": "code",
   "execution_count": 6,
   "metadata": {},
   "outputs": [],
   "source": [
    "def transfer_to_HOV_LOV(labels):# HOV: label=1 ; LOV: label=2\n",
    "    if len(labels.shape)==2:\n",
    "        labels = np.squeeze(labels).tolist()\n",
    "    for idx, l in enumerate(labels):\n",
    "        if l == 1:#5people: HOV\n",
    "            labels[idx]=1\n",
    "        elif l==2:#4people: HOV\n",
    "            labels[idx]=1\n",
    "        elif l==3:#3people\n",
    "            labels[idx]=1\n",
    "        elif l==4:#2people\n",
    "            labels[idx]=2\n",
    "        elif l==5:\n",
    "            labels[idx]=2\n",
    "        else:\n",
    "            raise SystemExit(\"invalid label\")\n",
    "    labels = np.array(labels)\n",
    "    labels = np.expand_dims(labels, axis=1)\n",
    "    return labels"
   ]
  },
  {
   "cell_type": "code",
   "execution_count": 7,
   "metadata": {},
   "outputs": [],
   "source": [
    "hov_lov_labels = transfer_to_HOV_LOV(labels)"
   ]
  },
  {
   "cell_type": "code",
   "execution_count": 8,
   "metadata": {},
   "outputs": [
    {
     "name": "stdout",
     "output_type": "stream",
     "text": [
      "HOV : 2656\n",
      "LOV : 1684\n"
     ]
    }
   ],
   "source": [
    "count_HOV_LOV(hov_lov_labels)"
   ]
  },
  {
   "attachments": {},
   "cell_type": "markdown",
   "metadata": {},
   "source": [
    "# RC-60-Mix: extract subdata by each label and produce 2d data"
   ]
  },
  {
   "cell_type": "code",
   "execution_count": 9,
   "metadata": {},
   "outputs": [],
   "source": [
    "from utils.sampling import extract_car_data, generate_2d_data, get_all_cars_2d"
   ]
  },
  {
   "cell_type": "code",
   "execution_count": 10,
   "metadata": {},
   "outputs": [],
   "source": [
    "bin_length, stride = 6, 1\n",
    "total_bin = None"
   ]
  },
  {
   "cell_type": "code",
   "execution_count": 11,
   "metadata": {},
   "outputs": [],
   "source": [
    "unique_labels = [1, 2, 3, 4, 5]\n",
    "aggregate_data, aggregate_label = get_all_cars_2d(data, labels, unique_labels, bin_length, stride, total_bin)"
   ]
  },
  {
   "cell_type": "code",
   "execution_count": 12,
   "metadata": {},
   "outputs": [
    {
     "data": {
      "text/plain": [
       "((4310, 6, 5976), (4310,))"
      ]
     },
     "execution_count": 12,
     "metadata": {},
     "output_type": "execute_result"
    }
   ],
   "source": [
    "aggregate_data.shape, aggregate_label.shape"
   ]
  },
  {
   "attachments": {},
   "cell_type": "markdown",
   "metadata": {},
   "source": [
    "# Transfer exact occupancy labels to HOV/LOV\n",
    "* (1) LOV: 1 or 2 people => label = 2 \n",
    "* (2) HOV: 3, 4, or 5 people => label = 1"
   ]
  },
  {
   "cell_type": "code",
   "execution_count": 13,
   "metadata": {},
   "outputs": [],
   "source": [
    "new_aggregate_label = transfer_to_HOV_LOV(aggregate_label.copy())"
   ]
  },
  {
   "cell_type": "code",
   "execution_count": 14,
   "metadata": {},
   "outputs": [
    {
     "data": {
      "text/plain": [
       "(array([1]), array([2]))"
      ]
     },
     "execution_count": 14,
     "metadata": {},
     "output_type": "execute_result"
    }
   ],
   "source": [
    "min(new_aggregate_label), max(new_aggregate_label)"
   ]
  },
  {
   "cell_type": "code",
   "execution_count": 15,
   "metadata": {},
   "outputs": [
    {
     "name": "stdout",
     "output_type": "stream",
     "text": [
      "HOV : 2638\n",
      "LOV : 1672\n"
     ]
    }
   ],
   "source": [
    "# after generating 2d data\n",
    "count_HOV_LOV(new_aggregate_label)"
   ]
  },
  {
   "cell_type": "code",
   "execution_count": 16,
   "metadata": {
    "scrolled": true
   },
   "outputs": [
    {
     "data": {
      "text/plain": [
       "0.38793503480278424"
      ]
     },
     "execution_count": 16,
     "metadata": {},
     "output_type": "execute_result"
    }
   ],
   "source": [
    "# imbalance ratio\n",
    "1672/(2638+1672)"
   ]
  },
  {
   "cell_type": "code",
   "execution_count": 17,
   "metadata": {},
   "outputs": [
    {
     "data": {
      "text/plain": [
       "(numpy.ndarray, numpy.ndarray)"
      ]
     },
     "execution_count": 17,
     "metadata": {},
     "output_type": "execute_result"
    }
   ],
   "source": [
    "type(aggregate_data), type(new_aggregate_label)"
   ]
  },
  {
   "attachments": {},
   "cell_type": "markdown",
   "metadata": {},
   "source": [
    "# Oversampling (re-balancing) LOV to match HOV"
   ]
  },
  {
   "attachments": {},
   "cell_type": "markdown",
   "metadata": {},
   "source": [
    "## (1) shuffle HOV and LOV sub-datasets"
   ]
  },
  {
   "cell_type": "code",
   "execution_count": 18,
   "metadata": {
    "scrolled": true
   },
   "outputs": [],
   "source": [
    "def extract_HOV_LOV_indices(new_aggregate_label):\n",
    "    df = pd.DataFrame(new_aggregate_label)\n",
    "    HOV_index = df.index[df.iloc[:, 0] == 1].tolist()\n",
    "    LOV_index = df.index[df.iloc[:, 0] == 2].tolist()\n",
    "    return HOV_index, LOV_index"
   ]
  },
  {
   "cell_type": "code",
   "execution_count": 19,
   "metadata": {
    "scrolled": true
   },
   "outputs": [],
   "source": [
    "HOV_index, LOV_index = extract_HOV_LOV_indices(new_aggregate_label)\n",
    "HOV_data, LOV_data = aggregate_data[HOV_index], aggregate_data[LOV_index]\n",
    "HOV_labels, LOV_labels = new_aggregate_label[HOV_index], new_aggregate_label[LOV_index]"
   ]
  },
  {
   "cell_type": "code",
   "execution_count": 20,
   "metadata": {
    "scrolled": true
   },
   "outputs": [
    {
     "data": {
      "text/plain": [
       "((2638, 6, 5976), (1672, 6, 5976))"
      ]
     },
     "execution_count": 20,
     "metadata": {},
     "output_type": "execute_result"
    }
   ],
   "source": [
    "HOV_data.shape, LOV_data.shape"
   ]
  },
  {
   "cell_type": "code",
   "execution_count": 22,
   "metadata": {
    "scrolled": true
   },
   "outputs": [
    {
     "data": {
      "text/plain": [
       "((2638, 1), (1672, 1))"
      ]
     },
     "execution_count": 22,
     "metadata": {},
     "output_type": "execute_result"
    }
   ],
   "source": [
    "HOV_labels.shape, LOV_labels.shape"
   ]
  },
  {
   "cell_type": "code",
   "execution_count": 24,
   "metadata": {
    "scrolled": true
   },
   "outputs": [
    {
     "name": "stderr",
     "output_type": "stream",
     "text": [
      "2023-07-10 18:11:53.075085: I tensorflow/core/platform/cpu_feature_guard.cc:193] This TensorFlow binary is optimized with oneAPI Deep Neural Network Library (oneDNN) to use the following CPU instructions in performance-critical operations:  AVX2 AVX512F AVX512_VNNI FMA\n",
      "To enable them in other operations, rebuild TensorFlow with the appropriate compiler flags.\n",
      "2023-07-10 18:11:55.396089: I tensorflow/core/common_runtime/gpu/gpu_device.cc:1532] Created device /job:localhost/replica:0/task:0/device:GPU:0 with 38251 MB memory:  -> device: 0, name: NVIDIA A100-PCIE-40GB, pci bus id: 0000:2f:00.0, compute capability: 8.0\n"
     ]
    }
   ],
   "source": [
    "import tensorflow as tf\n",
    "BUFFER_SIZE = 1000\n",
    "\n",
    "def make_ds(data, labels, num_classes):\n",
    "    labels = tf.keras.utils.to_categorical(labels-1, num_classes)\n",
    "    ds = tf.data.Dataset.from_tensor_slices((data, labels))#.cache()\n",
    "    ds = ds.shuffle(BUFFER_SIZE).repeat()\n",
    "    return ds\n",
    "num_classes = 2\n",
    "HOV_ds = make_ds(HOV_data, HOV_labels, num_classes)\n",
    "LOV_ds = make_ds(LOV_data, LOV_labels, num_classes)"
   ]
  },
  {
   "attachments": {},
   "cell_type": "markdown",
   "metadata": {},
   "source": [
    "## (2) resampling HOV and LOV"
   ]
  },
  {
   "cell_type": "code",
   "execution_count": 25,
   "metadata": {
    "scrolled": true
   },
   "outputs": [],
   "source": [
    "BATCH_SIZE = 64\n",
    "resampled_ds = tf.data.Dataset.sample_from_datasets([HOV_ds, LOV_ds], weights=[0.5, 0.5])"
   ]
  },
  {
   "cell_type": "code",
   "execution_count": 27,
   "metadata": {
    "scrolled": true
   },
   "outputs": [
    {
     "name": "stdout",
     "output_type": "stream",
     "text": [
      "tf.Tensor([0. 1.], shape=(2,), dtype=float32)\n"
     ]
    }
   ],
   "source": [
    "for features, label in resampled_ds.take(1):\n",
    "    print(label) "
   ]
  },
  {
   "attachments": {},
   "cell_type": "markdown",
   "metadata": {},
   "source": [
    "## (3) take 0.8:0.2 to train:test"
   ]
  },
  {
   "cell_type": "code",
   "execution_count": null,
   "metadata": {},
   "outputs": [],
   "source": [
    "test_dataset = resampled_ds.take(*0.2)\n",
    "train_dataset = resampled_ds.skip(1000)"
   ]
  },
  {
   "cell_type": "code",
   "execution_count": 29,
   "metadata": {},
   "outputs": [
    {
     "data": {
      "text/plain": [
       "<_DirectedInterleaveDataset element_spec=(TensorSpec(shape=(6, 5976), dtype=tf.float64, name=None), TensorSpec(shape=(2,), dtype=tf.float32, name=None))>"
      ]
     },
     "execution_count": 29,
     "metadata": {},
     "output_type": "execute_result"
    }
   ],
   "source": [
    "resampled_ds"
   ]
  },
  {
   "cell_type": "code",
   "execution_count": null,
   "metadata": {},
   "outputs": [],
   "source": []
  },
  {
   "cell_type": "code",
   "execution_count": null,
   "metadata": {},
   "outputs": [],
   "source": []
  },
  {
   "attachments": {},
   "cell_type": "markdown",
   "metadata": {},
   "source": [
    "# Train 2d cnn on RC-60-Mix"
   ]
  },
  {
   "cell_type": "code",
   "execution_count": 48,
   "metadata": {},
   "outputs": [],
   "source": [
    "from das_lib.models import cnn2d_dropout\n",
    "from das_lib.funs import split_train_test_2d"
   ]
  },
  {
   "cell_type": "code",
   "execution_count": null,
   "metadata": {},
   "outputs": [],
   "source": [
    "from das_lib.funs import *\n",
    "test_frac = .2\n",
    "aggregate_data= np.expand_dims(aggregate_data,-1)\n",
    "y_one_hot = tf.keras.utils.to_categorical(new_aggregate_label-1, num_classes=2)\n",
    "x_train, x_test, y_train, y_test, training_index = split_train_test_2d(aggregate_data, y_one_hot, test_frac)\n",
    "m = cnn2d_dropout( (x_train.shape[1], x_train.shape[2],1), y_train.shape[1])\n",
    "print(m.summary())"
   ]
  }
 ],
 "metadata": {
  "kernelspec": {
   "display_name": "DAS_review",
   "language": "python",
   "name": "das_review"
  },
  "language_info": {
   "codemirror_mode": {
    "name": "ipython",
    "version": 3
   },
   "file_extension": ".py",
   "mimetype": "text/x-python",
   "name": "python",
   "nbconvert_exporter": "python",
   "pygments_lexer": "ipython3",
   "version": "3.8.5"
  }
 },
 "nbformat": 4,
 "nbformat_minor": 4
}
